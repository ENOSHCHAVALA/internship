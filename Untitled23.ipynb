{
 "cells": [
  {
   "cell_type": "code",
   "execution_count": 2,
   "id": "3d7e8ac5",
   "metadata": {},
   "outputs": [
    {
     "name": "stdout",
     "output_type": "stream",
     "text": [
      "720\n"
     ]
    }
   ],
   "source": [
    "# Program to calculate factorial of a number\n",
    "def facto(n): \n",
    "\n",
    "\tif (n == 0): \n",
    "\t\treturn 1\n",
    "\n",
    "\treturn n * facto(n-1) \n",
    "\n",
    "# print the result\n",
    "print(facto(6))\n"
   ]
  },
  {
   "cell_type": "code",
   "execution_count": 3,
   "id": "fc3b6b6d",
   "metadata": {},
   "outputs": [
    {
     "name": "stdout",
     "output_type": "stream",
     "text": [
      "father\n",
      "sister\n",
      "brother in law\n",
      "droid\n",
      "friend\n"
     ]
    }
   ],
   "source": [
    "def find_relation(name):\n",
    "    relation_map = {\n",
    "        \"Darth Vader\": \"father\",\n",
    "        \"Leia\": \"sister\",\n",
    "        \"Han\": \"brother in law\",\n",
    "        \"R2D2\": \"droid\"\n",
    "    }\n",
    "\n",
    "    return relation_map.get(name, \"friend\")\n",
    "\n",
    "# Test the function with some names\n",
    "print(find_relation(\"Darth Vader\"))  \n",
    "print(find_relation(\"Leia\")) \n",
    "print(find_relation(\"Han\"))  \n",
    "print(find_relation(\"R2D2\")) \n",
    "print(find_relation(\"Obi-Wan Kenobi\")) "
   ]
  },
  {
   "cell_type": "code",
   "execution_count": 4,
   "id": "e8b7ad76",
   "metadata": {
    "scrolled": true
   },
   "outputs": [
    {
     "name": "stdout",
     "output_type": "stream",
     "text": [
      "1\n",
      "2\n",
      "3\n",
      "5\n"
     ]
    }
   ],
   "source": [
    "def count_digits(number):\n",
    "    if number == 0:\n",
    "        return 1  # Handle the special case of 0\n",
    "\n",
    "    # Initialize a count variable to 0\n",
    "    count = 0\n",
    "\n",
    "    # Check if the number is negative and account for the negative sign\n",
    "    if number < 0:\n",
    "        count += 1\n",
    "        number = -number\n",
    "\n",
    "    # Use a loop to count the digits by converting the number to a string\n",
    "    while number > 0:\n",
    "        count += 1\n",
    "        number //= 10\n",
    "\n",
    "    return count\n",
    "\n",
    "# Test the function with different numbers\n",
    "print(count_digits(5))  \n",
    "print(count_digits(32))  \n",
    "print(count_digits(123))  \n",
    "print(count_digits(-4567))  "
   ]
  },
  {
   "cell_type": "code",
   "execution_count": 2,
   "id": "c1426afc",
   "metadata": {},
   "outputs": [
    {
     "name": "stdout",
     "output_type": "stream",
     "text": [
      "34560\n"
     ]
    }
   ],
   "source": [
    "\n",
    "def factorial(n):\n",
    "    if n == 0:\n",
    "        return 1\n",
    "    else:\n",
    "        return n * factorial(n - 1)\n",
    "\n",
    "def product_of_factorials(number):\n",
    "    result = 1\n",
    "    for i in range(1, number + 1):\n",
    "        result *= factorial(i)\n",
    "    return result\n",
    "\n",
    "# Test the function with the number 5\n",
    "result = product_of_factorials(5)\n",
    "print(result)  # Output: 34560\n"
   ]
  },
  {
   "cell_type": "code",
   "execution_count": null,
   "id": "b2694efd",
   "metadata": {},
   "outputs": [],
   "source": [
    "def sum_of_squares(*args):\n",
    "    result = sum(x**2 for x in args)\n",
    "    return result\n",
    "\n",
    "# Test the function with different numbers of arguments\n",
    "print(sum_of_squares(1, 2, 3))  # Output: 14 (1^2 + 2^2 + 3^2)\n",
    "print(sum_of_squares(4, 5, 6, 7))  # Output: 126 (4^2 + 5^2 + 6^2 + 7^2)\n",
    "\n"
   ]
  },
  {
   "cell_type": "code",
   "execution_count": 3,
   "id": "e244a517",
   "metadata": {},
   "outputs": [
    {
     "name": "stdout",
     "output_type": "stream",
     "text": [
      "14\n",
      "126\n"
     ]
    }
   ],
   "source": [
    "def sum_of_squares(*args):\n",
    "    result = sum(x**2 for x in args)\n",
    "    return result\n",
    "\n",
    "# Test the function with different numbers of arguments\n",
    "print(sum_of_squares(1, 2, 3))  # Output: 14 (1^2 + 2^2 + 3^2)\n",
    "print(sum_of_squares(4, 5, 6, 7))  # Output: 126 (4^2 + 5^2 + 6^2 + 7^2)\n"
   ]
  },
  {
   "cell_type": "code",
   "execution_count": 4,
   "id": "ce311501",
   "metadata": {},
   "outputs": [
    {
     "name": "stdout",
     "output_type": "stream",
     "text": [
      "5\n",
      "3\n",
      "12\n",
      "3.0\n",
      "Division by zero is not allowed\n",
      "Invalid operation\n"
     ]
    }
   ],
   "source": [
    "def perform_operation(number1, number2, operation):\n",
    "    if operation == '+':\n",
    "        result = number1 + number2\n",
    "    elif operation == '-':\n",
    "        result = number1 - number2\n",
    "    elif operation == '*':\n",
    "        result = number1 * number2\n",
    "    elif operation == '/':\n",
    "        if number2 == 0:\n",
    "            return \"Division by zero is not allowed\"\n",
    "        result = number1 / number2\n",
    "    else:\n",
    "        return \"Invalid operation\"\n",
    "    \n",
    "    return result\n",
    "\n",
    "# Test the function with different arguments\n",
    "result = perform_operation(3, 2, '+')  # Output: 5 (3 + 2)\n",
    "print(result)\n",
    "\n",
    "result = perform_operation(5, 2, '-')  # Output: 3 (5 - 2)\n",
    "print(result)\n",
    "\n",
    "result = perform_operation(4, 3, '*')  # Output: 12 (4 * 3)\n",
    "print(result)\n",
    "\n",
    "result = perform_operation(6, 2, '/')  # Output: 3.0 (6 / 2)\n",
    "print(result)\n",
    "\n",
    "result = perform_operation(8, 0, '/')  # Output: \"Division by zero is not allowed\"\n",
    "print(result)\n",
    "\n",
    "result = perform_operation(5, 2, '%')  # Output: \"Invalid operation\"\n",
    "print(result)\n"
   ]
  },
  {
   "cell_type": "code",
   "execution_count": null,
   "id": "6792456e",
   "metadata": {},
   "outputs": [],
   "source": []
  }
 ],
 "metadata": {
  "kernelspec": {
   "display_name": "Python 3 (ipykernel)",
   "language": "python",
   "name": "python3"
  },
  "language_info": {
   "codemirror_mode": {
    "name": "ipython",
    "version": 3
   },
   "file_extension": ".py",
   "mimetype": "text/x-python",
   "name": "python",
   "nbconvert_exporter": "python",
   "pygments_lexer": "ipython3",
   "version": "3.9.7"
  }
 },
 "nbformat": 4,
 "nbformat_minor": 5
}
